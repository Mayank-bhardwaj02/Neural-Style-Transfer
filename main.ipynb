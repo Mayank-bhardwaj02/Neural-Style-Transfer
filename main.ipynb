{
  "nbformat": 4,
  "nbformat_minor": 0,
  "metadata": {
    "colab": {
      "provenance": [],
      "gpuType": "T4"
    },
    "kernelspec": {
      "name": "python3",
      "display_name": "Python 3"
    },
    "language_info": {
      "name": "python"
    },
    "accelerator": "GPU"
  },
  "cells": [
    {
      "cell_type": "code",
      "execution_count": 1,
      "metadata": {
        "id": "MW0YKOBau5vv"
      },
      "outputs": [],
      "source": [
        "import torch\n",
        "import torch.nn as nn\n",
        "import torch.optim as optim\n",
        "from PIL import Image\n",
        "import torchvision.transforms as transforms\n",
        "import torchvision.models as models\n",
        "from torchvision.utils import save_image"
      ]
    },
    {
      "cell_type": "code",
      "source": [
        "model = models.vgg19(pretrained = True).features"
      ],
      "metadata": {
        "colab": {
          "base_uri": "https://localhost:8080/"
        },
        "id": "0156s_Aa0zQT",
        "outputId": "37f1def9-5171-4c68-98ec-6be7fa96597d"
      },
      "execution_count": 2,
      "outputs": [
        {
          "output_type": "stream",
          "name": "stderr",
          "text": [
            "/usr/local/lib/python3.10/dist-packages/torchvision/models/_utils.py:208: UserWarning: The parameter 'pretrained' is deprecated since 0.13 and may be removed in the future, please use 'weights' instead.\n",
            "  warnings.warn(\n",
            "/usr/local/lib/python3.10/dist-packages/torchvision/models/_utils.py:223: UserWarning: Arguments other than a weight enum or `None` for 'weights' are deprecated since 0.13 and may be removed in the future. The current behavior is equivalent to passing `weights=VGG19_Weights.IMAGENET1K_V1`. You can also use `weights=VGG19_Weights.DEFAULT` to get the most up-to-date weights.\n",
            "  warnings.warn(msg)\n",
            "Downloading: \"https://download.pytorch.org/models/vgg19-dcbb9e9d.pth\" to /root/.cache/torch/hub/checkpoints/vgg19-dcbb9e9d.pth\n",
            "100%|██████████| 548M/548M [00:07<00:00, 80.1MB/s]\n"
          ]
        }
      ]
    },
    {
      "cell_type": "code",
      "source": [
        "model"
      ],
      "metadata": {
        "id": "aR2bDSqn1B3g"
      },
      "execution_count": null,
      "outputs": []
    },
    {
      "cell_type": "code",
      "source": [
        "class VGG(nn.Module):\n",
        "  def __init__(self):\n",
        "    super(VGG, self).__init__()\n",
        "\n",
        "    self.chosen_features = ['0','5','10','19','28']\n",
        "    self.model = models.vgg19(pretrained=True).features[:29]\n",
        "\n",
        "  def forward(self,x):\n",
        "    features = []\n",
        "\n",
        "    for layer_num, layer in enumerate(self.model):\n",
        "      x = layer(x)\n",
        "\n",
        "      if str(layer_num) in self.chosen_features:\n",
        "        features.append(x)\n",
        "    return features"
      ],
      "metadata": {
        "id": "7obPBcmw1FVf"
      },
      "execution_count": 4,
      "outputs": []
    },
    {
      "cell_type": "code",
      "source": [
        "def load_image(image_name):\n",
        "  image = Image.open(image_name)\n",
        "  image = loader(image).unsqueeze(0) #Adding additional dimension for batch size\n",
        "  return image.to(device)\n",
        "\n",
        "device = torch.device(\"cuda\" if torch.cuda.is_available else \"cpu\")\n",
        "image_size = 512\n",
        "\n",
        "loader = transforms.Compose([transforms.Resize((image_size, image_size)),\n",
        "                             transforms.ToTensor()])"
      ],
      "metadata": {
        "id": "PT02bfXW3h3l"
      },
      "execution_count": 6,
      "outputs": []
    },
    {
      "cell_type": "code",
      "source": [
        "Content_img = load_image(\"deer_image.jpg\")\n",
        "Style_img = load_image(\"art.jpg\")\n",
        "Generated = Content_img.clone().requires_grad_(True)"
      ],
      "metadata": {
        "id": "GbkrD7iX3h5_"
      },
      "execution_count": 9,
      "outputs": []
    },
    {
      "cell_type": "code",
      "source": [
        "model = VGG().to(device).eval()"
      ],
      "metadata": {
        "colab": {
          "base_uri": "https://localhost:8080/"
        },
        "id": "A6gobeMe7Z1L",
        "outputId": "ca0e510d-3cea-461b-986d-c83c4a4c4e10"
      },
      "execution_count": 10,
      "outputs": [
        {
          "output_type": "stream",
          "name": "stderr",
          "text": [
            "/usr/local/lib/python3.10/dist-packages/torchvision/models/_utils.py:208: UserWarning: The parameter 'pretrained' is deprecated since 0.13 and may be removed in the future, please use 'weights' instead.\n",
            "  warnings.warn(\n",
            "/usr/local/lib/python3.10/dist-packages/torchvision/models/_utils.py:223: UserWarning: Arguments other than a weight enum or `None` for 'weights' are deprecated since 0.13 and may be removed in the future. The current behavior is equivalent to passing `weights=VGG19_Weights.IMAGENET1K_V1`. You can also use `weights=VGG19_Weights.DEFAULT` to get the most up-to-date weights.\n",
            "  warnings.warn(msg)\n"
          ]
        }
      ]
    },
    {
      "cell_type": "code",
      "source": [
        "total_steps = 6000\n",
        "learning_rate = 0.001\n",
        "alpha = 1\n",
        "beta = 0.01\n",
        "optimizer = optim.Adam([Generated], lr = learning_rate)"
      ],
      "metadata": {
        "id": "5Dxxg-RD6o1f"
      },
      "execution_count": 11,
      "outputs": []
    },
    {
      "cell_type": "code",
      "source": [
        "for step in range(total_steps):\n",
        "  Generated_features = model(Generated)\n",
        "  Content_img_features = model(Content_img)\n",
        "  Style_img_features = model(Style_img)\n",
        "\n",
        "  style_loss = content_loss = 0\n",
        "\n",
        "  for gen_feature, cont_feature, style_feature in zip(\n",
        "      Generated_features, Content_img_features, Style_img_features\n",
        "  ):\n",
        "    batch_size, channel, height, width = gen_feature.shape\n",
        "    content_loss += torch.mean((gen_feature - cont_feature)**2)\n",
        "\n",
        "    # Computing Gram matrix now\n",
        "    G = gen_feature.view(channel, height*width).mm( # Dot Product\n",
        "        gen_feature.view(channel, height*width).t() # Transpose\n",
        "    )\n",
        "    A = style_feature.view(channel, height*width).mm( # Dot Product\n",
        "        style_feature.view(channel, height*width).t() # Transpose\n",
        "    )\n",
        "\n",
        "    style_loss += torch.mean((G - A)**2)\n",
        "\n",
        "  total_loss = alpha*content_loss + beta*style_loss # Loss = content loss + style loss\n",
        "  optimizer.zero_grad()\n",
        "  total_loss.backward()\n",
        "  optimizer.step()\n",
        "  if step % 400 == 0:\n",
        "    print(total_loss)\n",
        "    save_image(Generated, \"Generated image.jpg\")"
      ],
      "metadata": {
        "colab": {
          "base_uri": "https://localhost:8080/"
        },
        "id": "KegFioDM7Idd",
        "outputId": "b762b43d-9487-4ecf-ce61-b972b44f8c80"
      },
      "execution_count": 12,
      "outputs": [
        {
          "output_type": "stream",
          "name": "stdout",
          "text": [
            "tensor(1852350., device='cuda:0', grad_fn=<AddBackward0>)\n",
            "tensor(71109.2266, device='cuda:0', grad_fn=<AddBackward0>)\n",
            "tensor(13625.8105, device='cuda:0', grad_fn=<AddBackward0>)\n",
            "tensor(4842.1021, device='cuda:0', grad_fn=<AddBackward0>)\n",
            "tensor(3264.7683, device='cuda:0', grad_fn=<AddBackward0>)\n",
            "tensor(2592.8311, device='cuda:0', grad_fn=<AddBackward0>)\n",
            "tensor(2159.7310, device='cuda:0', grad_fn=<AddBackward0>)\n",
            "tensor(1852.1746, device='cuda:0', grad_fn=<AddBackward0>)\n",
            "tensor(1620.0619, device='cuda:0', grad_fn=<AddBackward0>)\n",
            "tensor(1433.1207, device='cuda:0', grad_fn=<AddBackward0>)\n",
            "tensor(1273.4374, device='cuda:0', grad_fn=<AddBackward0>)\n",
            "tensor(1132.0062, device='cuda:0', grad_fn=<AddBackward0>)\n",
            "tensor(1005.2955, device='cuda:0', grad_fn=<AddBackward0>)\n",
            "tensor(890.1053, device='cuda:0', grad_fn=<AddBackward0>)\n",
            "tensor(786.9357, device='cuda:0', grad_fn=<AddBackward0>)\n"
          ]
        }
      ]
    }
  ]
}